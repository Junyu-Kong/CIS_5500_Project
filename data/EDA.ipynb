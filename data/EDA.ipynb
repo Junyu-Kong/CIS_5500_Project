{
 "cells": [
  {
   "cell_type": "markdown",
   "metadata": {},
   "source": [
    "## Downloading raw data"
   ]
  },
  {
   "cell_type": "code",
   "execution_count": 4,
   "metadata": {},
   "outputs": [],
   "source": [
    "import os\n",
    "import requests\n",
    "\n",
    "# URLs of the files \n",
    "urls = [\n",
    "    \"https://storage.googleapis.com/penn-cis5450/yelp_business.csv\",\n",
    "    \"https://storage.googleapis.com/penn-cis5450/yelp_checkin.csv\",\n",
    "    \"https://storage.googleapis.com/penn-cis5450/yelp_tip.csv\",\n",
    "    \"https://storage.googleapis.com/penn-cis5450/yelp_user.csv\"\n",
    "]\n",
    "\n",
    "# Download each file\n",
    "for url in urls:\n",
    "    file_name = url.split('/')[-1] \n",
    "    file_path = os.path.join(os.getcwd(), file_name)\n",
    "\n",
    "    # Check if the file already exists\n",
    "    if os.path.exists(file_path):\n",
    "        continue\n",
    "\n",
    "    response = requests.get(url)\n",
    "    if response.status_code == 200:\n",
    "        with open(file_path, 'wb') as f:\n",
    "            f.write(response.content)\n",
    "        print(f\"Downloaded: {file_name}\")\n",
    "    else:\n",
    "        print(f\"Failed to download {file_name}\")\n"
   ]
  },
  {
   "cell_type": "markdown",
   "metadata": {},
   "source": [
    "## EDA"
   ]
  },
  {
   "cell_type": "code",
   "execution_count": 5,
   "metadata": {},
   "outputs": [],
   "source": [
    "import pandas as pd"
   ]
  },
  {
   "cell_type": "code",
   "execution_count": 6,
   "metadata": {},
   "outputs": [],
   "source": [
    "business_df = pd.read_csv(os.path.join(os.getcwd(), \"yelp_business.csv\"))\n",
    "checkin_df = pd.read_csv(os.path.join(os.getcwd(), \"yelp_checkin.csv\"))\n",
    "tip_df = pd.read_csv(os.path.join(os.getcwd(), \"yelp_tip.csv\"))\n",
    "user_df = pd.read_csv(os.path.join(os.getcwd(), \"yelp_user.csv\"))"
   ]
  },
  {
   "cell_type": "markdown",
   "metadata": {},
   "source": [
    "### business data"
   ]
  },
  {
   "cell_type": "code",
   "execution_count": 7,
   "metadata": {},
   "outputs": [
    {
     "name": "stdout",
     "output_type": "stream",
     "text": [
      "<class 'pandas.core.frame.DataFrame'>\n",
      "RangeIndex: 174567 entries, 0 to 174566\n",
      "Data columns (total 13 columns):\n",
      " #   Column        Non-Null Count   Dtype  \n",
      "---  ------        --------------   -----  \n",
      " 0   business_id   174567 non-null  object \n",
      " 1   name          174567 non-null  object \n",
      " 2   neighborhood  68015 non-null   object \n",
      " 3   address       174567 non-null  object \n",
      " 4   city          174566 non-null  object \n",
      " 5   state         174566 non-null  object \n",
      " 6   postal_code   173944 non-null  object \n",
      " 7   latitude      174566 non-null  float64\n",
      " 8   longitude     174566 non-null  float64\n",
      " 9   stars         174567 non-null  float64\n",
      " 10  review_count  174567 non-null  int64  \n",
      " 11  is_open       174567 non-null  int64  \n",
      " 12  categories    174567 non-null  object \n",
      "dtypes: float64(3), int64(2), object(8)\n",
      "memory usage: 17.3+ MB\n"
     ]
    }
   ],
   "source": [
    "business_df.info()"
   ]
  },
  {
   "cell_type": "code",
   "execution_count": 8,
   "metadata": {},
   "outputs": [
    {
     "data": {
      "text/html": [
       "<div>\n",
       "<style scoped>\n",
       "    .dataframe tbody tr th:only-of-type {\n",
       "        vertical-align: middle;\n",
       "    }\n",
       "\n",
       "    .dataframe tbody tr th {\n",
       "        vertical-align: top;\n",
       "    }\n",
       "\n",
       "    .dataframe thead th {\n",
       "        text-align: right;\n",
       "    }\n",
       "</style>\n",
       "<table border=\"1\" class=\"dataframe\">\n",
       "  <thead>\n",
       "    <tr style=\"text-align: right;\">\n",
       "      <th></th>\n",
       "      <th>business_id</th>\n",
       "      <th>name</th>\n",
       "      <th>neighborhood</th>\n",
       "      <th>address</th>\n",
       "      <th>city</th>\n",
       "      <th>state</th>\n",
       "      <th>postal_code</th>\n",
       "      <th>latitude</th>\n",
       "      <th>longitude</th>\n",
       "      <th>stars</th>\n",
       "      <th>review_count</th>\n",
       "      <th>is_open</th>\n",
       "      <th>categories</th>\n",
       "    </tr>\n",
       "  </thead>\n",
       "  <tbody>\n",
       "    <tr>\n",
       "      <th>0</th>\n",
       "      <td>FYWN1wneV18bWNgQjJ2GNg</td>\n",
       "      <td>\"Dental by Design\"</td>\n",
       "      <td>NaN</td>\n",
       "      <td>\"4855 E Warner Rd, Ste B9\"</td>\n",
       "      <td>Ahwatukee</td>\n",
       "      <td>AZ</td>\n",
       "      <td>85044</td>\n",
       "      <td>33.330690</td>\n",
       "      <td>-111.978599</td>\n",
       "      <td>4.0</td>\n",
       "      <td>22</td>\n",
       "      <td>1</td>\n",
       "      <td>Dentists;General Dentistry;Health &amp; Medical;Or...</td>\n",
       "    </tr>\n",
       "    <tr>\n",
       "      <th>1</th>\n",
       "      <td>He-G7vWjzVUysIKrfNbPUQ</td>\n",
       "      <td>\"Stephen Szabo Salon\"</td>\n",
       "      <td>NaN</td>\n",
       "      <td>\"3101 Washington Rd\"</td>\n",
       "      <td>McMurray</td>\n",
       "      <td>PA</td>\n",
       "      <td>15317</td>\n",
       "      <td>40.291685</td>\n",
       "      <td>-80.104900</td>\n",
       "      <td>3.0</td>\n",
       "      <td>11</td>\n",
       "      <td>1</td>\n",
       "      <td>Hair Stylists;Hair Salons;Men's Hair Salons;Bl...</td>\n",
       "    </tr>\n",
       "  </tbody>\n",
       "</table>\n",
       "</div>"
      ],
      "text/plain": [
       "              business_id                   name neighborhood  \\\n",
       "0  FYWN1wneV18bWNgQjJ2GNg     \"Dental by Design\"          NaN   \n",
       "1  He-G7vWjzVUysIKrfNbPUQ  \"Stephen Szabo Salon\"          NaN   \n",
       "\n",
       "                      address       city state postal_code   latitude  \\\n",
       "0  \"4855 E Warner Rd, Ste B9\"  Ahwatukee    AZ       85044  33.330690   \n",
       "1        \"3101 Washington Rd\"   McMurray    PA       15317  40.291685   \n",
       "\n",
       "    longitude  stars  review_count  is_open  \\\n",
       "0 -111.978599    4.0            22        1   \n",
       "1  -80.104900    3.0            11        1   \n",
       "\n",
       "                                          categories  \n",
       "0  Dentists;General Dentistry;Health & Medical;Or...  \n",
       "1  Hair Stylists;Hair Salons;Men's Hair Salons;Bl...  "
      ]
     },
     "execution_count": 8,
     "metadata": {},
     "output_type": "execute_result"
    }
   ],
   "source": [
    "business_df.head(2)"
   ]
  },
  {
   "cell_type": "code",
   "execution_count": 9,
   "metadata": {},
   "outputs": [],
   "source": [
    "# create a copy\n",
    "business_cleaned_df = business_df.copy()\n",
    "\n",
    "# Remove extra quotations from name and address\n",
    "business_cleaned_df[\"name\"] = business_cleaned_df[\"name\"].str.strip('\"')\n",
    "business_cleaned_df[\"address\"] = business_cleaned_df[\"address\"].str.strip('\"')\n",
    "\n",
    "# Convert categories into a list of strings\n",
    "business_cleaned_df[\"categories\"] = business_cleaned_df[\"categories\"].str.split(';')\n",
    "\n",
    "# Drop neighborhood column as it is mostly null\n",
    "business_cleaned_df.drop(\"neighborhood\", axis=1, inplace=True)\n",
    "\n",
    "# Create a column called is_restaurant where the value is 1 if 'Restaurants' is within the list in the column categories and is 0 otherwise\n",
    "business_cleaned_df[\"is_restaurant\"] = business_cleaned_df[\"categories\"].apply(lambda x : 1 if \"Restaurants\" in x else 0)\n",
    "\n",
    "# Standardize the city column using regex (remove extra spaces and capitalizing words)\n",
    "business_cleaned_df[\"city\"] = business_cleaned_df[\"city\"].str.replace(r\"\\s+\", \" \", regex=True).str.strip().str.title()\n",
    "\n",
    "# Drop and reset index\n",
    "business_cleaned_df.reset_index(drop=True, inplace=True)\n",
    "\n",
    "# export to a new csv\n",
    "business_cleaned_df.to_csv(\"cleaned_business.csv\")"
   ]
  },
  {
   "cell_type": "code",
   "execution_count": 10,
   "metadata": {},
   "outputs": [
    {
     "name": "stdout",
     "output_type": "stream",
     "text": [
      "<class 'pandas.core.frame.DataFrame'>\n",
      "RangeIndex: 174567 entries, 0 to 174566\n",
      "Data columns (total 13 columns):\n",
      " #   Column         Non-Null Count   Dtype  \n",
      "---  ------         --------------   -----  \n",
      " 0   business_id    174567 non-null  object \n",
      " 1   name           174567 non-null  object \n",
      " 2   address        174567 non-null  object \n",
      " 3   city           174566 non-null  object \n",
      " 4   state          174566 non-null  object \n",
      " 5   postal_code    173944 non-null  object \n",
      " 6   latitude       174566 non-null  float64\n",
      " 7   longitude      174566 non-null  float64\n",
      " 8   stars          174567 non-null  float64\n",
      " 9   review_count   174567 non-null  int64  \n",
      " 10  is_open        174567 non-null  int64  \n",
      " 11  categories     174567 non-null  object \n",
      " 12  is_restaurant  174567 non-null  int64  \n",
      "dtypes: float64(3), int64(3), object(7)\n",
      "memory usage: 17.3+ MB\n"
     ]
    }
   ],
   "source": [
    "# final schema\n",
    "business_cleaned_df.info()"
   ]
  },
  {
   "cell_type": "markdown",
   "metadata": {},
   "source": [
    "### checkin data"
   ]
  },
  {
   "cell_type": "code",
   "execution_count": 11,
   "metadata": {},
   "outputs": [
    {
     "name": "stdout",
     "output_type": "stream",
     "text": [
      "<class 'pandas.core.frame.DataFrame'>\n",
      "RangeIndex: 3911218 entries, 0 to 3911217\n",
      "Data columns (total 4 columns):\n",
      " #   Column       Non-Null Count    Dtype \n",
      "---  ------       --------------    ----- \n",
      " 0   business_id  3911218 non-null  object\n",
      " 1   weekday      3911218 non-null  object\n",
      " 2   hour         3911218 non-null  object\n",
      " 3   checkins     3911218 non-null  int64 \n",
      "dtypes: int64(1), object(3)\n",
      "memory usage: 119.4+ MB\n"
     ]
    }
   ],
   "source": [
    "checkin_df.info(show_counts=True)"
   ]
  },
  {
   "cell_type": "code",
   "execution_count": 12,
   "metadata": {},
   "outputs": [
    {
     "data": {
      "text/html": [
       "<div>\n",
       "<style scoped>\n",
       "    .dataframe tbody tr th:only-of-type {\n",
       "        vertical-align: middle;\n",
       "    }\n",
       "\n",
       "    .dataframe tbody tr th {\n",
       "        vertical-align: top;\n",
       "    }\n",
       "\n",
       "    .dataframe thead th {\n",
       "        text-align: right;\n",
       "    }\n",
       "</style>\n",
       "<table border=\"1\" class=\"dataframe\">\n",
       "  <thead>\n",
       "    <tr style=\"text-align: right;\">\n",
       "      <th></th>\n",
       "      <th>business_id</th>\n",
       "      <th>weekday</th>\n",
       "      <th>hour</th>\n",
       "      <th>checkins</th>\n",
       "    </tr>\n",
       "  </thead>\n",
       "  <tbody>\n",
       "    <tr>\n",
       "      <th>0</th>\n",
       "      <td>3Mc-LxcqeguOXOVT_2ZtCg</td>\n",
       "      <td>Tue</td>\n",
       "      <td>0:00</td>\n",
       "      <td>12</td>\n",
       "    </tr>\n",
       "    <tr>\n",
       "      <th>1</th>\n",
       "      <td>SVFx6_epO22bZTZnKwlX7g</td>\n",
       "      <td>Wed</td>\n",
       "      <td>0:00</td>\n",
       "      <td>4</td>\n",
       "    </tr>\n",
       "  </tbody>\n",
       "</table>\n",
       "</div>"
      ],
      "text/plain": [
       "              business_id weekday  hour  checkins\n",
       "0  3Mc-LxcqeguOXOVT_2ZtCg     Tue  0:00        12\n",
       "1  SVFx6_epO22bZTZnKwlX7g     Wed  0:00         4"
      ]
     },
     "execution_count": 12,
     "metadata": {},
     "output_type": "execute_result"
    }
   ],
   "source": [
    "checkin_df.head(2)"
   ]
  },
  {
   "cell_type": "code",
   "execution_count": 23,
   "metadata": {},
   "outputs": [],
   "source": [
    "# Create a copy of checkin_df called  checkin_cleaned_df\n",
    "checkin_cleaned_df = checkin_df.copy()\n",
    "\n",
    "# export the csv as there no intresting process needed\n",
    "checkin_cleaned_df.to_csv(\"cleaned_checkin.csv\")"
   ]
  },
  {
   "cell_type": "code",
   "execution_count": 24,
   "metadata": {},
   "outputs": [
    {
     "name": "stdout",
     "output_type": "stream",
     "text": [
      "<class 'pandas.core.frame.DataFrame'>\n",
      "RangeIndex: 3911218 entries, 0 to 3911217\n",
      "Data columns (total 4 columns):\n",
      " #   Column       Dtype \n",
      "---  ------       ----- \n",
      " 0   business_id  object\n",
      " 1   weekday      object\n",
      " 2   hour         object\n",
      " 3   checkins     int64 \n",
      "dtypes: int64(1), object(3)\n",
      "memory usage: 119.4+ MB\n"
     ]
    }
   ],
   "source": [
    "# final schema\n",
    "checkin_cleaned_df.info()"
   ]
  },
  {
   "cell_type": "markdown",
   "metadata": {},
   "source": [
    "### user data"
   ]
  },
  {
   "cell_type": "code",
   "execution_count": 15,
   "metadata": {},
   "outputs": [
    {
     "name": "stdout",
     "output_type": "stream",
     "text": [
      "<class 'pandas.core.frame.DataFrame'>\n",
      "RangeIndex: 1326100 entries, 0 to 1326099\n",
      "Data columns (total 22 columns):\n",
      " #   Column              Non-Null Count    Dtype  \n",
      "---  ------              --------------    -----  \n",
      " 0   user_id             1326100 non-null  object \n",
      " 1   name                1325585 non-null  object \n",
      " 2   review_count        1326100 non-null  int64  \n",
      " 3   yelping_since       1326100 non-null  object \n",
      " 4   friends             760007 non-null   object \n",
      " 5   useful              1326100 non-null  int64  \n",
      " 6   funny               1326100 non-null  int64  \n",
      " 7   cool                1326100 non-null  int64  \n",
      " 8   fans                1326100 non-null  int64  \n",
      " 9   elite               60818 non-null    object \n",
      " 10  average_stars       1326100 non-null  float64\n",
      " 11  compliment_hot      1326100 non-null  int64  \n",
      " 12  compliment_more     1326100 non-null  int64  \n",
      " 13  compliment_profile  1326100 non-null  int64  \n",
      " 14  compliment_cute     1326100 non-null  int64  \n",
      " 15  compliment_list     1326100 non-null  int64  \n",
      " 16  compliment_note     1326100 non-null  int64  \n",
      " 17  compliment_plain    1326100 non-null  int64  \n",
      " 18  compliment_cool     1326100 non-null  int64  \n",
      " 19  compliment_funny    1326100 non-null  int64  \n",
      " 20  compliment_writer   1326100 non-null  int64  \n",
      " 21  compliment_photos   1326100 non-null  int64  \n",
      "dtypes: float64(1), int64(16), object(5)\n",
      "memory usage: 222.6+ MB\n"
     ]
    }
   ],
   "source": [
    "user_df.info()"
   ]
  },
  {
   "cell_type": "code",
   "execution_count": 16,
   "metadata": {},
   "outputs": [
    {
     "data": {
      "text/html": [
       "<div>\n",
       "<style scoped>\n",
       "    .dataframe tbody tr th:only-of-type {\n",
       "        vertical-align: middle;\n",
       "    }\n",
       "\n",
       "    .dataframe tbody tr th {\n",
       "        vertical-align: top;\n",
       "    }\n",
       "\n",
       "    .dataframe thead th {\n",
       "        text-align: right;\n",
       "    }\n",
       "</style>\n",
       "<table border=\"1\" class=\"dataframe\">\n",
       "  <thead>\n",
       "    <tr style=\"text-align: right;\">\n",
       "      <th></th>\n",
       "      <th>user_id</th>\n",
       "      <th>name</th>\n",
       "      <th>review_count</th>\n",
       "      <th>yelping_since</th>\n",
       "      <th>friends</th>\n",
       "      <th>useful</th>\n",
       "      <th>funny</th>\n",
       "      <th>cool</th>\n",
       "      <th>fans</th>\n",
       "      <th>elite</th>\n",
       "      <th>...</th>\n",
       "      <th>compliment_more</th>\n",
       "      <th>compliment_profile</th>\n",
       "      <th>compliment_cute</th>\n",
       "      <th>compliment_list</th>\n",
       "      <th>compliment_note</th>\n",
       "      <th>compliment_plain</th>\n",
       "      <th>compliment_cool</th>\n",
       "      <th>compliment_funny</th>\n",
       "      <th>compliment_writer</th>\n",
       "      <th>compliment_photos</th>\n",
       "    </tr>\n",
       "  </thead>\n",
       "  <tbody>\n",
       "    <tr>\n",
       "      <th>0</th>\n",
       "      <td>JJ-aSuM4pCFPdkfoZ34q0Q</td>\n",
       "      <td>Chris</td>\n",
       "      <td>10</td>\n",
       "      <td>2013-09-24</td>\n",
       "      <td>0njfJmB-7n84DlIgUByCNw, rFn3Xe3RqHxRSxWOU19Gpg...</td>\n",
       "      <td>0</td>\n",
       "      <td>0</td>\n",
       "      <td>0</td>\n",
       "      <td>0</td>\n",
       "      <td>NaN</td>\n",
       "      <td>...</td>\n",
       "      <td>0</td>\n",
       "      <td>0</td>\n",
       "      <td>0</td>\n",
       "      <td>0</td>\n",
       "      <td>0</td>\n",
       "      <td>0</td>\n",
       "      <td>0</td>\n",
       "      <td>0</td>\n",
       "      <td>0</td>\n",
       "      <td>0</td>\n",
       "    </tr>\n",
       "    <tr>\n",
       "      <th>1</th>\n",
       "      <td>uUzsFQn_6cXDh6rPNGbIFA</td>\n",
       "      <td>Tiffy</td>\n",
       "      <td>1</td>\n",
       "      <td>2017-03-02</td>\n",
       "      <td>NaN</td>\n",
       "      <td>0</td>\n",
       "      <td>0</td>\n",
       "      <td>0</td>\n",
       "      <td>0</td>\n",
       "      <td>NaN</td>\n",
       "      <td>...</td>\n",
       "      <td>0</td>\n",
       "      <td>0</td>\n",
       "      <td>0</td>\n",
       "      <td>0</td>\n",
       "      <td>0</td>\n",
       "      <td>0</td>\n",
       "      <td>0</td>\n",
       "      <td>0</td>\n",
       "      <td>0</td>\n",
       "      <td>0</td>\n",
       "    </tr>\n",
       "  </tbody>\n",
       "</table>\n",
       "<p>2 rows × 22 columns</p>\n",
       "</div>"
      ],
      "text/plain": [
       "                  user_id   name  review_count yelping_since  \\\n",
       "0  JJ-aSuM4pCFPdkfoZ34q0Q  Chris            10    2013-09-24   \n",
       "1  uUzsFQn_6cXDh6rPNGbIFA  Tiffy             1    2017-03-02   \n",
       "\n",
       "                                             friends  useful  funny  cool  \\\n",
       "0  0njfJmB-7n84DlIgUByCNw, rFn3Xe3RqHxRSxWOU19Gpg...       0      0     0   \n",
       "1                                                NaN       0      0     0   \n",
       "\n",
       "   fans elite  ...  compliment_more  compliment_profile  compliment_cute  \\\n",
       "0     0   NaN  ...                0                   0                0   \n",
       "1     0   NaN  ...                0                   0                0   \n",
       "\n",
       "   compliment_list  compliment_note  compliment_plain  compliment_cool  \\\n",
       "0                0                0                 0                0   \n",
       "1                0                0                 0                0   \n",
       "\n",
       "   compliment_funny  compliment_writer  compliment_photos  \n",
       "0                 0                  0                  0  \n",
       "1                 0                  0                  0  \n",
       "\n",
       "[2 rows x 22 columns]"
      ]
     },
     "execution_count": 16,
     "metadata": {},
     "output_type": "execute_result"
    }
   ],
   "source": [
    "user_df.head(2)"
   ]
  },
  {
   "cell_type": "code",
   "execution_count": null,
   "metadata": {},
   "outputs": [],
   "source": [
    "# Create a copy of user_df called user_cleaned_df\n",
    "user_cleaned_df = user_df.copy()\n",
    "\n",
    "# Strip the friends column of excess spaces and convert type to string.\n",
    "user_cleaned_df[\"friends\"] = user_cleaned_df[\"friends\"].str.strip()\n",
    "\n",
    "# Drop unwanted columns\n",
    "user_cleaned_df = user_cleaned_df[[\"user_id\", \"name\", \"review_count\", \"yelping_since\", \"elite\", \"average_stars\"]]\n",
    "\n",
    "# pick an arbitrary date to trim data\n",
    "user_cleaned_df = user_cleaned_df[user_cleaned_df[\"yelping_since\"] > \"2013-09-24\"]\n",
    "\n",
    "# Sort by user_id in an ascending order\n",
    "user_cleaned_df.sort_values(\"user_id\", inplace=True)\n",
    "user_cleaned_df.reset_index(drop=True, inplace=True)\n",
    "\n",
    "user_cleaned_df.to_csv(\"cleaned_user.csv\")"
   ]
  },
  {
   "cell_type": "code",
   "execution_count": 27,
   "metadata": {},
   "outputs": [
    {
     "name": "stdout",
     "output_type": "stream",
     "text": [
      "<class 'pandas.core.frame.DataFrame'>\n",
      "RangeIndex: 663111 entries, 0 to 663110\n",
      "Data columns (total 6 columns):\n",
      " #   Column         Non-Null Count   Dtype  \n",
      "---  ------         --------------   -----  \n",
      " 0   user_id        663111 non-null  object \n",
      " 1   name           662745 non-null  object \n",
      " 2   review_count   663111 non-null  int64  \n",
      " 3   yelping_since  663111 non-null  object \n",
      " 4   elite          11675 non-null   object \n",
      " 5   average_stars  663111 non-null  float64\n",
      "dtypes: float64(1), int64(1), object(4)\n",
      "memory usage: 30.4+ MB\n"
     ]
    }
   ],
   "source": [
    "# final schema\n",
    "user_cleaned_df.info()"
   ]
  },
  {
   "cell_type": "markdown",
   "metadata": {},
   "source": [
    "### tip data"
   ]
  },
  {
   "cell_type": "code",
   "execution_count": 28,
   "metadata": {},
   "outputs": [
    {
     "name": "stdout",
     "output_type": "stream",
     "text": [
      "<class 'pandas.core.frame.DataFrame'>\n",
      "RangeIndex: 1098324 entries, 0 to 1098323\n",
      "Data columns (total 5 columns):\n",
      " #   Column       Non-Null Count    Dtype \n",
      "---  ------       --------------    ----- \n",
      " 0   text         1098319 non-null  object\n",
      " 1   date         1098324 non-null  object\n",
      " 2   likes        1098324 non-null  int64 \n",
      " 3   business_id  1098324 non-null  object\n",
      " 4   user_id      1098324 non-null  object\n",
      "dtypes: int64(1), object(4)\n",
      "memory usage: 41.9+ MB\n"
     ]
    }
   ],
   "source": [
    "tip_df.info()"
   ]
  },
  {
   "cell_type": "code",
   "execution_count": 29,
   "metadata": {},
   "outputs": [
    {
     "data": {
      "text/html": [
       "<div>\n",
       "<style scoped>\n",
       "    .dataframe tbody tr th:only-of-type {\n",
       "        vertical-align: middle;\n",
       "    }\n",
       "\n",
       "    .dataframe tbody tr th {\n",
       "        vertical-align: top;\n",
       "    }\n",
       "\n",
       "    .dataframe thead th {\n",
       "        text-align: right;\n",
       "    }\n",
       "</style>\n",
       "<table border=\"1\" class=\"dataframe\">\n",
       "  <thead>\n",
       "    <tr style=\"text-align: right;\">\n",
       "      <th></th>\n",
       "      <th>text</th>\n",
       "      <th>date</th>\n",
       "      <th>likes</th>\n",
       "      <th>business_id</th>\n",
       "      <th>user_id</th>\n",
       "    </tr>\n",
       "  </thead>\n",
       "  <tbody>\n",
       "    <tr>\n",
       "      <th>0</th>\n",
       "      <td>Great breakfast large portions and friendly wa...</td>\n",
       "      <td>2015-08-12</td>\n",
       "      <td>0</td>\n",
       "      <td>jH19V2I9fIslnNhDzPmdkA</td>\n",
       "      <td>ZcLKXikTHYOnYt5VYRO5sg</td>\n",
       "    </tr>\n",
       "    <tr>\n",
       "      <th>1</th>\n",
       "      <td>Nice place. Great staff.  A fixture in the tow...</td>\n",
       "      <td>2014-06-20</td>\n",
       "      <td>0</td>\n",
       "      <td>dAa0hB2yrnHzVmsCkN4YvQ</td>\n",
       "      <td>oaYhjqBbh18ZhU0bpyzSuw</td>\n",
       "    </tr>\n",
       "  </tbody>\n",
       "</table>\n",
       "</div>"
      ],
      "text/plain": [
       "                                                text        date  likes  \\\n",
       "0  Great breakfast large portions and friendly wa...  2015-08-12      0   \n",
       "1  Nice place. Great staff.  A fixture in the tow...  2014-06-20      0   \n",
       "\n",
       "              business_id                 user_id  \n",
       "0  jH19V2I9fIslnNhDzPmdkA  ZcLKXikTHYOnYt5VYRO5sg  \n",
       "1  dAa0hB2yrnHzVmsCkN4YvQ  oaYhjqBbh18ZhU0bpyzSuw  "
      ]
     },
     "execution_count": 29,
     "metadata": {},
     "output_type": "execute_result"
    }
   ],
   "source": [
    "tip_df.head(2)"
   ]
  },
  {
   "cell_type": "code",
   "execution_count": 30,
   "metadata": {},
   "outputs": [],
   "source": [
    "# Create a copy of tip_df called tip_cleaned_df\n",
    "tip_cleaned_df = tip_df.copy()\n",
    "\n",
    "# Convert the data in date column from string to datetime64[ns]\n",
    "tip_cleaned_df[\"date\"] = pd.to_datetime(tip_cleaned_df[\"date\"], format='%Y-%m-%d')\n",
    "\n",
    "# trim data to satisfy the foreign key requirement to cleaned_user_df\n",
    "tip_cleaned_df = tip_cleaned_df[tip_cleaned_df[\"user_id\"].isin(user_cleaned_df['user_id'])]\n",
    "\n",
    "# reset index\n",
    "tip_cleaned_df.reset_index(drop=True, inplace=True)\n",
    "\n",
    "# export data\n",
    "tip_cleaned_df.to_csv(\"cleaned_tip.csv\")"
   ]
  },
  {
   "cell_type": "code",
   "execution_count": 22,
   "metadata": {},
   "outputs": [
    {
     "name": "stdout",
     "output_type": "stream",
     "text": [
      "<class 'pandas.core.frame.DataFrame'>\n",
      "RangeIndex: 247599 entries, 0 to 247598\n",
      "Data columns (total 5 columns):\n",
      " #   Column       Non-Null Count   Dtype         \n",
      "---  ------       --------------   -----         \n",
      " 0   text         247599 non-null  object        \n",
      " 1   date         247599 non-null  datetime64[ns]\n",
      " 2   likes        247599 non-null  int64         \n",
      " 3   business_id  247599 non-null  object        \n",
      " 4   user_id      247599 non-null  object        \n",
      "dtypes: datetime64[ns](1), int64(1), object(3)\n",
      "memory usage: 9.4+ MB\n"
     ]
    }
   ],
   "source": [
    "# final schema\n",
    "tip_cleaned_df.info()"
   ]
  }
 ],
 "metadata": {
  "kernelspec": {
   "display_name": "base",
   "language": "python",
   "name": "python3"
  },
  "language_info": {
   "codemirror_mode": {
    "name": "ipython",
    "version": 3
   },
   "file_extension": ".py",
   "mimetype": "text/x-python",
   "name": "python",
   "nbconvert_exporter": "python",
   "pygments_lexer": "ipython3",
   "version": "3.11.7"
  }
 },
 "nbformat": 4,
 "nbformat_minor": 2
}
